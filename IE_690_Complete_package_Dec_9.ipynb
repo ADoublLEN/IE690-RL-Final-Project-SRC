{
  "cells": [
    {
      "cell_type": "code",
      "execution_count": null,
      "metadata": {
        "id": "n7pd8DLfIgOM"
      },
      "outputs": [],
      "source": [
        "# setup the data reading. \n",
        "import pandas as pd\n",
        "from pandas import read_parquet\n",
        "#from google.colab import drive\n",
        "#drive.mount('/content/drive')\n",
        "import pandas as pd\n",
        "import numpy as np\n",
        "import math\n",
        "from mip import Model, xsum, maximize, BINARY"
      ]
    },
    {
      "cell_type": "code",
      "execution_count": null,
      "metadata": {
        "id": "6UUtM0TNg6kE"
      },
      "outputs": [],
      "source": [
        "data=pd.read_parquet(\"C:\\\\Mohammadhosein\\\\PhD Courses\\\\Fall Semester 2022\\\\RL and System Constrol\\\\For the project\\\\RL in ride sourcing\\\\Matching\\\\yellow_tripdata_2022-01.parquet\")"
      ]
    },
    {
      "cell_type": "code",
      "execution_count": null,
      "metadata": {
        "id": "DaYjrZYG-vrE"
      },
      "outputs": [],
      "source": [
        "#@title Default title text\n",
        "class customers_data:\n",
        "  def __init__(self,picTime,drpTime,passengers,tripDistance,\\\n",
        "               picLocation,drpLocation,fee,real_picTime,id):\n",
        "    self.picTime = picTime\n",
        "    self.drpTime = drpTime\n",
        "    self.passengers = passengers\n",
        "    self.tripDistance = tripDistance\n",
        "    self.picLocation = picLocation\n",
        "    self.drpLocation = drpLocation\n",
        "    self.travel_time = drpTime - picTime\n",
        "    self.fee = fee\n",
        "    self.real_picTime = real_picTime\n",
        "    self.id = id\n",
        "\n",
        "class driver_data:\n",
        "  def __init__(self,ID,status,location,remain_time):\n",
        "    self.ID = ID\n",
        "    self.status = status\n",
        "    self.location = location\n",
        "    self.remain_time = remain_time\n",
        "\n",
        "#data = read_parquet('/content/drive/MyDrive/yellow_tripdata_2022-01.parquet')\n",
        "#print(data)"
      ]
    },
    {
      "cell_type": "code",
      "execution_count": null,
      "metadata": {
        "colab": {
          "base_uri": "https://localhost:8080/"
        },
        "id": "wEzJz3v8UWSY",
        "outputId": "6d0caa52-f20d-4742-f7a0-471bea67d8d1"
      },
      "outputs": [
        {
          "name": "stdout",
          "output_type": "stream",
          "text": [
            "[(79, 621), (48, 471), (170, 424), (237, 369), (107, 348), (142, 337), (249, 326), (132, 321), (68, 319), (161, 318), (263, 313), (234, 306), (141, 297), (148, 288), (239, 276), (162, 252), (229, 247), (164, 240), (114, 239), (50, 222)]\n",
            "[79, 48, 170, 237, 107, 142, 249, 132, 68, 161, 263, 234, 141, 148, 239, 162, 229, 164, 114, 50]\n"
          ]
        }
      ],
      "source": [
        "# most frequent position \n",
        "#data = read_parquet('/content/drive/MyDrive/yellow_tripdata_2022-01.parquet')\n",
        "position_stat = {}\n",
        "for i in range(10000):\n",
        "  cur_pos = data['PULocationID'][i]\n",
        "  position_stat[cur_pos] = position_stat.get(cur_pos,0) + 1\n",
        "\n",
        "Most_Frequent_20 = (sorted(position_stat.items(), key = lambda kv:(kv[1], kv[0]),reverse = True)) \n",
        "Most_Frequent_20 = Most_Frequent_20[:20]\n",
        "print(Most_Frequent_20)\n",
        "final_most_frequent_20 = []\n",
        "for i in Most_Frequent_20:\n",
        "  final_most_frequent_20.append(i[0])\n",
        "print(final_most_frequent_20)"
      ]
    },
    {
      "cell_type": "code",
      "execution_count": null,
      "metadata": {
        "colab": {
          "base_uri": "https://localhost:8080/"
        },
        "id": "24_dL9-I-gPi",
        "outputId": "38607317-9528-4929-83cb-fd5389054cfc"
      },
      "outputs": [
        {
          "name": "stdout",
          "output_type": "stream",
          "text": [
            "{0: <__main__.driver_data object at 0x0000026311F956C8>, 1: <__main__.driver_data object at 0x0000026311E8BA88>, 2: <__main__.driver_data object at 0x0000026311F95808>, 3: <__main__.driver_data object at 0x0000026311F95888>, 4: <__main__.driver_data object at 0x0000026311F958C8>, 5: <__main__.driver_data object at 0x0000026311F95948>, 6: <__main__.driver_data object at 0x0000026311F95988>, 7: <__main__.driver_data object at 0x0000026311F959C8>, 8: <__main__.driver_data object at 0x0000026311F95A08>, 9: <__main__.driver_data object at 0x0000026311F95908>, 10: <__main__.driver_data object at 0x0000026311F95A48>, 11: <__main__.driver_data object at 0x0000026311F95A88>, 12: <__main__.driver_data object at 0x0000026311F95AC8>, 13: <__main__.driver_data object at 0x0000026311F95B08>, 14: <__main__.driver_data object at 0x0000026311F95B48>, 15: <__main__.driver_data object at 0x0000026311F95B88>, 16: <__main__.driver_data object at 0x0000026311F95BC8>, 17: <__main__.driver_data object at 0x0000026311F95C08>, 18: <__main__.driver_data object at 0x0000026311F95C48>, 19: <__main__.driver_data object at 0x0000026311F95C88>, 20: <__main__.driver_data object at 0x0000026311F95CC8>, 21: <__main__.driver_data object at 0x0000026311F95D08>, 22: <__main__.driver_data object at 0x0000026311F95D48>, 23: <__main__.driver_data object at 0x0000026311F95D88>, 24: <__main__.driver_data object at 0x0000026311F95DC8>, 25: <__main__.driver_data object at 0x0000026311F95E08>, 26: <__main__.driver_data object at 0x0000026311F95E48>, 27: <__main__.driver_data object at 0x0000026311F95E88>, 28: <__main__.driver_data object at 0x0000026311F95EC8>, 29: <__main__.driver_data object at 0x0000026311F95F08>, 30: <__main__.driver_data object at 0x0000026311F95F48>, 31: <__main__.driver_data object at 0x0000026311F95F88>, 32: <__main__.driver_data object at 0x0000026311F95FC8>, 33: <__main__.driver_data object at 0x0000026311F9C048>, 34: <__main__.driver_data object at 0x0000026311F9C088>, 35: <__main__.driver_data object at 0x0000026311F9C0C8>, 36: <__main__.driver_data object at 0x0000026311F9C108>, 37: <__main__.driver_data object at 0x0000026311F9C148>, 38: <__main__.driver_data object at 0x0000026311F9C188>, 39: <__main__.driver_data object at 0x0000026311F9C1C8>, 40: <__main__.driver_data object at 0x0000026311F9C208>, 41: <__main__.driver_data object at 0x0000026311F9C248>, 42: <__main__.driver_data object at 0x0000026311F9C288>, 43: <__main__.driver_data object at 0x0000026311F9C2C8>, 44: <__main__.driver_data object at 0x0000026311F9C308>, 45: <__main__.driver_data object at 0x0000026311F9C348>, 46: <__main__.driver_data object at 0x0000026311F9C388>, 47: <__main__.driver_data object at 0x0000026311F9C3C8>, 48: <__main__.driver_data object at 0x0000026311F9C408>, 49: <__main__.driver_data object at 0x0000026311F9C448>, 50: <__main__.driver_data object at 0x0000026311F9C488>, 51: <__main__.driver_data object at 0x0000026311F9C4C8>, 52: <__main__.driver_data object at 0x0000026311F9C508>, 53: <__main__.driver_data object at 0x0000026311F9C548>, 54: <__main__.driver_data object at 0x0000026311F9C588>, 55: <__main__.driver_data object at 0x0000026311F9C5C8>, 56: <__main__.driver_data object at 0x0000026311F9C608>, 57: <__main__.driver_data object at 0x0000026311F9C648>, 58: <__main__.driver_data object at 0x00000263015B2208>, 59: <__main__.driver_data object at 0x0000026311F6FC88>, 60: <__main__.driver_data object at 0x0000026311F6FE48>, 61: <__main__.driver_data object at 0x0000026311F6F488>, 62: <__main__.driver_data object at 0x0000026311F6F648>, 63: <__main__.driver_data object at 0x0000026311F6F5C8>, 64: <__main__.driver_data object at 0x0000026311F6F3C8>, 65: <__main__.driver_data object at 0x0000026311F6F448>, 66: <__main__.driver_data object at 0x0000026311F6F588>, 67: <__main__.driver_data object at 0x0000026311F6F0C8>, 68: <__main__.driver_data object at 0x0000026311F6F688>, 69: <__main__.driver_data object at 0x0000026311F6F6C8>, 70: <__main__.driver_data object at 0x0000026311F6F288>, 71: <__main__.driver_data object at 0x0000026311F6F188>, 72: <__main__.driver_data object at 0x0000026311F6F048>, 73: <__main__.driver_data object at 0x0000026311F6F208>, 74: <__main__.driver_data object at 0x0000026311E8B3C8>, 75: <__main__.driver_data object at 0x0000026311E8B8C8>, 76: <__main__.driver_data object at 0x0000026311E8B788>, 77: <__main__.driver_data object at 0x0000026311E8B708>, 78: <__main__.driver_data object at 0x00000263015D2408>, 79: <__main__.driver_data object at 0x00000263015D28C8>, 80: <__main__.driver_data object at 0x00000263015D2C48>, 81: <__main__.driver_data object at 0x00000263015D2B48>, 82: <__main__.driver_data object at 0x00000263015D2A08>, 83: <__main__.driver_data object at 0x00000263015D29C8>, 84: <__main__.driver_data object at 0x00000263015D2AC8>, 85: <__main__.driver_data object at 0x00000263015D2D08>, 86: <__main__.driver_data object at 0x00000263015D2CC8>, 87: <__main__.driver_data object at 0x00000263015D2C88>, 88: <__main__.driver_data object at 0x0000026311E53548>, 89: <__main__.driver_data object at 0x0000026311E53748>, 90: <__main__.driver_data object at 0x0000026310E31F48>, 91: <__main__.driver_data object at 0x0000026310E31988>, 92: <__main__.driver_data object at 0x000002630159F3C8>, 93: <__main__.driver_data object at 0x00000263015EB208>, 94: <__main__.driver_data object at 0x00000263015EB3C8>, 95: <__main__.driver_data object at 0x0000026301552F88>, 96: <__main__.driver_data object at 0x00000263015EAF88>, 97: <__main__.driver_data object at 0x0000026301594C88>, 98: <__main__.driver_data object at 0x0000026301594988>, 99: <__main__.driver_data object at 0x00000263015A8AC8>}\n"
          ]
        }
      ],
      "source": [
        "def initialize_drivers(driver_num,pos):\n",
        "  drivers_map = {}\n",
        "  drivers_stack_idle = []\n",
        "  cnt = 0\n",
        "  for j in pos:\n",
        "    for _ in range(driver_num):\n",
        "      cur_driver = driver_data(cnt,'idle',j,0)\n",
        "      drivers_map[cnt] = cur_driver\n",
        "      drivers_stack_idle.append(cur_driver)\n",
        "      cnt += 1\n",
        "  return drivers_map,drivers_stack_idle\n",
        "\n",
        "drivers_map,drivers_stack_idle = initialize_drivers(5,final_most_frequent_20)\n",
        "print(drivers_map)\n",
        "#print(drivers_stack_idle)"
      ]
    },
    {
      "cell_type": "code",
      "execution_count": null,
      "metadata": {
        "id": "HEirzure2enZ"
      },
      "outputs": [],
      "source": [
        "#@title Default title text\n",
        "import collections\n",
        "#data = read_parquet('/content/drive/MyDrive/yellow_tripdata_2022-01.parquet')\n",
        "day_map = collections.defaultdict(list)\n",
        "#print(data)\n",
        "dates = ['01']\n",
        "\n",
        "for i in range(len(data)):\n",
        "    cur_day = str(data['tpep_pickup_datetime'][i])[8:10]\n",
        "    #print(data['DOLocationID'][i])\n",
        "    #print(cur_day)\n",
        "    if not cur_day in dates: continue\n",
        "    real_picTime = str(data['tpep_pickup_datetime'][i])\n",
        "    temp = str(data['tpep_pickup_datetime'][i]).split(' ')\n",
        "    temp = temp[1].split(':')\n",
        "    picHour, picMin = int(temp[0]), int(temp[1])\n",
        "    picTime = picHour * 60 + picMin\n",
        "    if picTime < 360 or picTime > 780: continue\n",
        "    \n",
        "    temp = str(data['tpep_dropoff_datetime'][i]).split(' ')\n",
        "    temp = temp[1].split(':')\n",
        "    drpHour, drpMin = int(temp[0]), int(temp[1])\n",
        "    drpTime = drpHour * 60 + drpMin\n",
        "\n",
        "    passengers = str(data['passenger_count'][i])\n",
        "    tripDistance = str(data['trip_distance'][i])\n",
        "    picLocation = str(data['PULocationID'][i])\n",
        "    drpLocation = str(data['DOLocationID'][i])\n",
        "    fee = float(data['total_amount'][i])\n",
        "    cur_data = customers_data(picTime, drpTime, passengers,\\\n",
        "                              tripDistance, picLocation,drpLocation,fee,real_picTime,i)\n",
        "\n",
        "    day_map[cur_day].append(cur_data)"
      ]
    },
    {
      "cell_type": "code",
      "execution_count": null,
      "metadata": {
        "colab": {
          "base_uri": "https://localhost:8080/"
        },
        "id": "U2IMudCEWheK",
        "outputId": "b4d1af52-df40-4899-faad-c9568a592a5f"
      },
      "outputs": [
        {
          "name": "stdout",
          "output_type": "stream",
          "text": [
            "10777\n"
          ]
        }
      ],
      "source": [
        "print(len(day_map['01']))"
      ]
    },
    {
      "cell_type": "code",
      "execution_count": null,
      "metadata": {
        "id": "eq1332Ite7I4"
      },
      "outputs": [],
      "source": [
        "print(timeLine)\n",
        "print(single_day_time_map[5][0].picLocation)\n",
        "print(single_day_time_map[5][1].picLocation)"
      ]
    },
    {
      "cell_type": "code",
      "source": [],
      "metadata": {
        "id": "_Q_g2jPPg-_q"
      },
      "execution_count": null,
      "outputs": []
    },
    {
      "cell_type": "code",
      "source": [],
      "metadata": {
        "id": "JuVzGCEHhBkP"
      },
      "execution_count": null,
      "outputs": []
    },
    {
      "cell_type": "code",
      "source": [],
      "metadata": {
        "id": "epPXSXGmhBob"
      },
      "execution_count": null,
      "outputs": []
    },
    {
      "cell_type": "code",
      "execution_count": null,
      "metadata": {
        "id": "1Z0lRmqZRCqV"
      },
      "outputs": [],
      "source": [
        "import bisect\n",
        "single_day_time_map = collections.defaultdict(list)\n",
        "for key in day_map:\n",
        "  for i in range(len(day_map[key])):\n",
        "    cur_time = day_map[key][i].picTime\n",
        "    cur_location = day_map[key][i].picLocation\n",
        "    single_day_time_map[cur_time].append(day_map[key][i])\n",
        "\n",
        "timeLine = sorted(single_day_time_map.keys())\n",
        "new_time_map = {}\n",
        "combine_time_line = []\n",
        "for i in range(0,60 * 24, 10):\n",
        "  new_time_map[i] = []\n",
        "  combine_time_line.append(i)\n",
        "#print(new_time_map)\n",
        "for time in timeLine:\n",
        "  indx = bisect.bisect_right(combine_time_line,time)\n",
        "  for data in single_day_time_map[time]:\n",
        "    new_time_map[combine_time_line[indx - 1]].append(data)\n",
        "\n",
        "for key in new_time_map:\n",
        "  print(\"%d:\" %(key))\n",
        "  for i in new_time_map[key]:\n",
        "    print(i.picTime)\n",
        "  print(\"=================\")\n",
        "#for i in range(len(single_day_time_map[25])):\n",
        "#  print(single_day_time_map[25][i].drpLocation)\n",
        "\n",
        "#print(timeLine)"
      ]
    },
    {
      "cell_type": "code",
      "execution_count": null,
      "metadata": {
        "id": "FhIzJpBcg6kH"
      },
      "outputs": [],
      "source": [
        "#loading data\n",
        "state_values=pd.read_csv('C:\\Mohammadhosein\\PhD Courses\\Fall Semester 2022\\RL and System Constrol\\Exports\\statevaluse.csv',header=None)\n",
        "state_values=state_values.values\n",
        "state_values=np.reshape(state_values,(265,42))\n",
        "\n",
        "ODTT=pd.read_csv('C:\\Mohammadhosein\\PhD Courses\\Fall Semester 2022\\RL and System Constrol\\Exports\\ODTTime.csv',header=None)\n",
        "ODTT=ODTT.values\n",
        "ODTT=np.reshape(ODTT,(265,265))"
      ]
    },
    {
      "cell_type": "markdown",
      "metadata": {
        "id": "iNX5Vd8Cg6kH"
      },
      "source": [
        "# Action values"
      ]
    },
    {
      "cell_type": "code",
      "execution_count": null,
      "metadata": {
        "id": "ymI2WUm2g6kI"
      },
      "outputs": [],
      "source": [
        "def action_value_function(state_value,ODTT,passn_list,driver_list,  gamma,currenttime):\n",
        "    trip_requests=len(passn_list)\n",
        "    available_driver=len(driver_list)\n",
        "    action_value=np.zeros((available_driver,trip_requests))\n",
        "    pass_driv_assg=np.zeros((available_driver,trip_requests))\n",
        "    for i in range (0,available_driver):\n",
        "        for j in range (0, trip_requests):\n",
        "            action_value[i][j]= (gamma**(ODTT[driver_list[i][1]-1, passn_list[j][1]-1] +passn_list[j][4]))*state_value[ passn_list[j][2]-1 ][currenttime]-state_value[ driver_list[i][1]-1 ][currenttime]+passn_list[j][3]\n",
        "            pass_driv_assg[i][j]=passn_list[j][0]\n",
        "    action_value=action_value.T\n",
        "    return action_value,pass_driv_assg"
      ]
    },
    {
      "cell_type": "code",
      "execution_count": null,
      "metadata": {
        "id": "7qQofDnrg6kI"
      },
      "outputs": [],
      "source": [
        "def fare_base_function(passn_list,driver_list):\n",
        "    trip_requests=len(passn_list)\n",
        "    available_driver=len(driver_list)\n",
        "    action_value=np.zeros((available_driver,trip_requests))\n",
        "    pass_driv_assg=np.zeros((available_driver,trip_requests))\n",
        "    for i in range (0,available_driver):\n",
        "        for j in range (0, trip_requests):\n",
        "            action_value[i][j]= passn_list[j][3]\n",
        "            pass_driv_assg[i][j]=passn_list[j][0]\n",
        "    action_value=action_value.T\n",
        "    return action_value,pass_driv_assg"
      ]
    },
    {
      "cell_type": "markdown",
      "metadata": {
        "id": "rOwPvsbcg6kI"
      },
      "source": [
        "# Matching"
      ]
    },
    {
      "cell_type": "code",
      "execution_count": null,
      "metadata": {
        "id": "WqKRz4tig6kJ"
      },
      "outputs": [],
      "source": [
        "def matching(action_value,pass_driv_assg,trip_requests_list,available_driver_list):\n",
        "    available_driver=len(available_driver_list)\n",
        "    trip_requests=len(trip_requests_list)\n",
        "    print (available_driver,trip_requests)\n",
        "    model=Model()\n",
        "    # trip * driver\n",
        "    x=[[model.add_var(var_type=BINARY) for j in range (0,available_driver)] for i in range (0,trip_requests)]\n",
        "    model.objective = maximize(xsum(action_value[i][j]*x[i][j] for i in range (0,trip_requests) for j  in range (0,available_driver)))\n",
        "    # Each passenger receiev at most one matched driver\n",
        "    for i in range (0,trip_requests):\n",
        "        model += xsum(x[i][j] for j in range (0,available_driver) ) <= 1\n",
        "    for j in range (0,available_driver):\n",
        "        model += xsum(x[i][j] for i in range (0,trip_requests) ) <= 1\n",
        "    solution=np.zeros((trip_requests,available_driver))\n",
        "    model.optimize()\n",
        "    for i in range (0,trip_requests):\n",
        "        solution[i]= ([x[i][j].x for j in range (0,available_driver)])\n",
        "    total_reward=np.sum(solution*action_value)\n",
        "    pass_driv_assg=np.sum(solution*pass_driv_assg.T,axis=0)\n",
        "    driver_assignment=pass_driv_assg=pass_driv_assg+(pass_driv_assg==0)*-1\n",
        "    driver_assignment=np.reshape(driver_assignment,(len(driver_assignment),1 ) )\n",
        "    drv_id=np.reshape(available_driver_list,( len(available_driver_list) ,2  ))\n",
        "    drv_id=drv_id.T[0]\n",
        "    drv_id=np.reshape(drv_id,(len(drv_id),1 ))\n",
        "    driver_assignment=np.concatenate((drv_id,driver_assignment),axis=1)\n",
        "    serverd_pass=np.sum(solution,axis=1)\n",
        "    serverd_pass=np.reshape(serverd_pass, (len (serverd_pass),1))\n",
        "    gained_revenue=np.dot(serverd_pass.T,np.reshape(trip_requests_list,(len(trip_requests_list),np.shape(trip_requests_list)[1] )).T[3])[0]\n",
        "    n_servertrips=np.sum(serverd_pass)\n",
        "    n_unserved=len(serverd_pass)-n_servertrips\n",
        "    passn_id=np.reshape(trip_requests_list,(len(trip_requests_list),np.shape(trip_requests_list)[1] )).T[0]\n",
        "    passn_id=np.reshape(passn_id,(len(passn_id),1 ))\n",
        "    serverd_pass=np.concatenate((passn_id,serverd_pass),axis=1)\n",
        "    n_vacant=len(driver_assignment)-n_servertrips\n",
        "    # Outputs: matching of passengers, (2) matching of drivers, (3) number of serived tripes, (4) numbe of unserved trips, (5) number of vacant cars, (6) gained reward, (7) gained revenue\n",
        "    return serverd_pass,driver_assignment, n_servertrips,n_unserved,n_vacant ,total_reward,gained_revenue"
      ]
    },
    {
      "cell_type": "code",
      "execution_count": null,
      "metadata": {
        "id": "zU-1Ka0Lg6kJ",
        "outputId": "ad5f4c60-664f-453e-f27d-918acf001064"
      },
      "outputs": [
        {
          "name": "stdout",
          "output_type": "stream",
          "text": [
            "dict_keys([0, 10, 20, 30, 40, 50, 60, 70, 80, 90, 100, 110, 120, 130, 140, 150, 160, 170, 180, 190, 200, 210, 220, 230, 240, 250, 260, 270, 280, 290, 300, 310, 320, 330, 340, 350, 360, 370, 380, 390, 400, 410, 420, 430, 440, 450, 460, 470, 480, 490, 500, 510, 520, 530, 540, 550, 560, 570, 580, 590, 600, 610, 620, 630, 640, 650, 660, 670, 680, 690, 700, 710, 720, 730, 740, 750, 760, 770, 780, 790, 800, 810, 820, 830, 840, 850, 860, 870, 880, 890, 900, 910, 920, 930, 940, 950, 960, 970, 980, 990, 1000, 1010, 1020, 1030, 1040, 1050, 1060, 1070, 1080, 1090, 1100, 1110, 1120, 1130, 1140, 1150, 1160, 1170, 1180, 1190, 1200, 1210, 1220, 1230, 1240, 1250, 1260, 1270, 1280, 1290, 1300, 1310, 1320, 1330, 1340, 1350, 1360, 1370, 1380, 1390, 1400, 1410, 1420, 1430])\n"
          ]
        }
      ],
      "source": [
        "print(new_time_map.keys())"
      ]
    },
    {
      "cell_type": "code",
      "execution_count": null,
      "metadata": {
        "id": "tnfZgYSHg6kJ",
        "outputId": "6f0298e4-4004-44e6-f232-71f71a28fd8d"
      },
      "outputs": [
        {
          "data": {
            "text/plain": [
              "100"
            ]
          },
          "execution_count": 14,
          "metadata": {},
          "output_type": "execute_result"
        }
      ],
      "source": [
        "len(drivers_stack_idle)"
      ]
    },
    {
      "cell_type": "code",
      "execution_count": null,
      "metadata": {
        "id": "5QFpgHRa2v9v",
        "scrolled": true
      },
      "outputs": [],
      "source": [
        "drivers_map,drivers_stack_idle = initialize_drivers(30,final_most_frequent_20)\n",
        "waiting_customers = []\n",
        "available_drivers = []\n",
        "serving_drivers = []\n",
        "customer_dictionary = {}\n",
        "driver_dictionary = {}\n",
        "all_out_puts=[]\n",
        "for driver in drivers_stack_idle:\n",
        "  available_drivers.append([driver.ID,driver.location])\n",
        "  driver_dictionary[driver.ID] = [driver.ID,driver.location]\n",
        "\n",
        "#print(available_drivers)\n",
        "for key in new_time_map:\n",
        "    flag = 1\n",
        "    '''\n",
        "    print(\"waiting_customers\",end = \"\")\n",
        "    print(waiting_customers)\n",
        "    print(\"available_drivers\",end = \"\")\n",
        "    print(available_drivers)\n",
        "    print(\"serving_drivers\",end = \"\")\n",
        "    print(serving_drivers)\n",
        "    print(\"customer_dictionary\",end = \"\")\n",
        "    print(customer_dictionary)\n",
        "    print(\"driver_dictionary\",end = \"\")\n",
        "    print(driver_dictionary)\n",
        "    print(\"==========================================\")\n",
        "    '''\n",
        "    \n",
        "    cur_round_time_stamp = int(int(key) / 10 - 36)\n",
        "    print(\"TimeStamp:\", end = \"\")\n",
        "    print(cur_round_time_stamp)\n",
        "    if cur_round_time_stamp < 0 or cur_round_time_stamp > 3: continue\n",
        "    for customer in new_time_map[key]:\n",
        "      waiting_customers.append([customer.id,int(customer.picLocation),int(customer.drpLocation),customer.fee,math.ceil(customer.travel_time/10) ])\n",
        "      customer_dictionary[customer.id] = [customer.id,int(customer.picLocation),int(customer.drpLocation),customer.fee,math.ceil(customer.travel_time/10)  ]\n",
        "    if len(waiting_customers)*len(available_drivers)!=0:\n",
        "        action_value,pass_driv_assg=action_value_function(state_values,ODTT,waiting_customers,available_drivers,0.9,cur_round_time_stamp)\n",
        "        #action_value,pass_driv_assg=fare_base_function(waiting_customers,available_drivers)\n",
        "        match_data=matching(action_value,pass_driv_assg,waiting_customers,available_drivers)\n",
        "        print ('Gained revenue: ', match_data[-1])\n",
        "        print (\"No. Costumers:\", len(waiting_customers), \"No. Drivers: \",len(available_drivers)  )\n",
        "        all_out_puts=all_out_puts+[np.reshape(match_data[2:],(1,5))]\n",
        "    else:\n",
        "        flag = 0\n",
        "        print (\"No. Costumers:\", len(waiting_customers), \"No. Drivers: \",len(available_drivers)  )\n",
        "        all_out_puts=all_out_puts+[match_data[2],len(waiting_customers) ,len(available_drivers) ,match_data[5] ,match_data[6]]\n",
        "    \n",
        "    \n",
        "\n",
        "    for driver in serving_drivers:\n",
        "        driver.remain_time -= 1\n",
        "        if driver.remain_time <= 0:\n",
        "            available_drivers.append([driver.ID,driver.location])\n",
        "            serving_drivers.remove(driver)\n",
        "    \n",
        "    if not flag: continue\n",
        "    for i in match_data[0]:\n",
        "        if i[1]:\n",
        "            index = customer_dictionary[i[0]]\n",
        "            waiting_customers.remove(index)\n",
        "\n",
        "    for i in match_data[1]:\n",
        "        if i[1] != -1:\n",
        "            index = driver_dictionary[i[0]]\n",
        "            available_drivers.remove(index)\n",
        "            driver_location = index[1]\n",
        "            pic_location = customer_dictionary[i[1]][1]\n",
        "            drp_location = customer_dictionary[i[1]][2]\n",
        "            travel_time = customer_dictionary[i[1]][-1]\n",
        "            remain_time = ODTT[driver_location-1, pic_location-1] + int(travel_time)\n",
        "            cur_driver = driver_data(index[0],'serving',customer_dictionary[i[1]][2],remain_time)\n",
        "            serving_drivers.append(cur_driver)\n",
        "            driver_dictionary[index[0]] = [index[0],customer_dictionary[i[1]][2]]\n",
        "\n",
        "all_out_puts=pd.DataFrame(np.reshape(all_out_puts,( len(all_out_puts)  ,5)),columns=['Served_Costumers','Waiting_Costumers','Idle_AVs','Gained_reward','Gained_revenue'])\n",
        "all_out_puts.to_csv('C:\\\\Mohammadhosein\\\\PhD Courses\\\\Fall Semester 2022\\\\RL and System Constrol\\\\For the project\\\\Exports\\\\RL_30D')"
      ]
    },
    {
      "cell_type": "code",
      "execution_count": null,
      "metadata": {
        "id": "X050sLMpg6kK",
        "outputId": "2dd80eae-a7e9-40c2-ace7-9e26c92203f3"
      },
      "outputs": [
        {
          "data": {
            "text/plain": [
              "161"
            ]
          },
          "execution_count": 71,
          "metadata": {},
          "output_type": "execute_result"
        }
      ],
      "source": [
        "driver_dictionary[1]"
      ]
    },
    {
      "cell_type": "code",
      "execution_count": null,
      "metadata": {
        "id": "46JTlVfxg6kK"
      },
      "outputs": [],
      "source": []
    }
  ],
  "metadata": {
    "accelerator": "GPU",
    "colab": {
      "provenance": []
    },
    "gpuClass": "standard",
    "kernelspec": {
      "display_name": "Python 3 (ipykernel)",
      "language": "python",
      "name": "python3"
    },
    "language_info": {
      "codemirror_mode": {
        "name": "ipython",
        "version": 3
      },
      "file_extension": ".py",
      "mimetype": "text/x-python",
      "name": "python",
      "nbconvert_exporter": "python",
      "pygments_lexer": "ipython3",
      "version": "3.7.9"
    }
  },
  "nbformat": 4,
  "nbformat_minor": 0
}